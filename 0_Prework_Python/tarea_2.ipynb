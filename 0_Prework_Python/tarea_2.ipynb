{
 "cells": [
  {
   "cell_type": "code",
   "execution_count": null,
   "metadata": {},
   "outputs": [],
   "source": [
    "# Diseña un programa que combine if, while y for. Por ejemplo: un programa que registre y analice una lista de compras.\n",
    "\n",
    "while True:\n",
    "    producto = input(\"Introduce un producto (escribe 'fin' para terminar): \")\n",
    "    if producto.lower() == 'fin':\n",
    "        break\n",
    "    productos.append(producto)\n",
    "\n",
    "# Pedir al usuario que introduzca un producto específico para buscar en la lista\n",
    "producto_especifico = input(\"Introduce un producto específico para buscar: \")\n",
    "\n",
    "# Verificar si el producto específico está en la lista\n",
    "if producto_especifico in productos:\n",
    "    print(f\"Has comprado {producto_especifico}.\")\n",
    "else:\n",
    "    print(f\"No has comprado {producto_especifico}.\")\n",
    "\n"
   ]
  }
 ],
 "metadata": {
  "language_info": {
   "name": "python"
  }
 },
 "nbformat": 4,
 "nbformat_minor": 2
}
