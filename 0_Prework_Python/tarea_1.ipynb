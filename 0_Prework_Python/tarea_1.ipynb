{
 "cells": [
  {
   "cell_type": "code",
   "execution_count": 2,
   "metadata": {},
   "outputs": [
    {
     "name": "stdout",
     "output_type": "stream",
     "text": [
      "Buenas tardes, te recomiendo que hagas la comida.\n",
      "Buenos días, te recomiendo que hagas ejercicio.\n",
      "Buenas noches, te recomiendo que leas un libro.\n",
      "Error, introduce una hora válida.\n",
      "Error, introduce un número entero.\n",
      "Error, introduce un número entero.\n",
      "Buenas tardes, te recomiendo que hagas la comida.\n",
      "¡Hasta luego!\n"
     ]
    }
   ],
   "source": [
    "# Diseña un programa que combine if, while y for: sistema de recomendación de tareas según la hora del día.\n",
    "\n",
    "def recomendar_tareas(hora):\n",
    "    if hora < 12:\n",
    "        print(\"Buenos días, te recomiendo que hagas ejercicio.\")\n",
    "    elif hora < 20:\n",
    "        print(\"Buenas tardes, te recomiendo que hagas la comida.\")\n",
    "    elif hora < 24:\n",
    "        print(\"Buenas noches, te recomiendo que leas un libro.\")\n",
    "    else:\n",
    "        print(\"Error, introduce una hora válida.\")\n",
    "\n",
    "while True:\n",
    "    try:\n",
    "        hora = int(input(\"Introduce la hora del día: \"))\n",
    "        if 0 <= hora < 24:\n",
    "            recomendar_tareas(hora)\n",
    "            otra = input(\"¿Quieres introducir otra hora? (s/n): \").lower()\n",
    "            if otra != 's':\n",
    "                print(\"¡Hasta luego!\")\n",
    "                break\n",
    "        else:\n",
    "            print(\"Error, introduce una hora válida.\")\n",
    "    except ValueError:\n",
    "        print(\"Error, introduce un número entero.\")\n"
   ]
  }
 ],
 "metadata": {
  "kernelspec": {
   "display_name": "mi_entorno_virtual",
   "language": "python",
   "name": "python3"
  },
  "language_info": {
   "codemirror_mode": {
    "name": "ipython",
    "version": 3
   },
   "file_extension": ".py",
   "mimetype": "text/x-python",
   "name": "python",
   "nbconvert_exporter": "python",
   "pygments_lexer": "ipython3",
   "version": "3.13.1"
  }
 },
 "nbformat": 4,
 "nbformat_minor": 2
}
