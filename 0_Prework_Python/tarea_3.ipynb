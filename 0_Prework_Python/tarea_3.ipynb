{
 "cells": [
  {
   "cell_type": "markdown",
   "metadata": {},
   "source": [
    "Crea un programa que:\n",
    "\n",
    "Pida al usuario los nombres y edades de 3 estudiantes.\n",
    "\n",
    "Guarde esta información en un diccionario.\n",
    "\n",
    "Imprima los datos de cada estudiante en un formato claro."
   ]
  },
  {
   "cell_type": "code",
   "execution_count": 1,
   "metadata": {},
   "outputs": [
    {
     "name": "stdout",
     "output_type": "stream",
     "text": [
      "\n",
      "Datos de los estudiantes:\n",
      "Nombre: Manuel, Edad: 18\n",
      "Nombre: Rocío, Edad: 22\n",
      "Nombre: Sandra, Edad: 34\n"
     ]
    }
   ],
   "source": [
    "def obtener_datos_estudiantes():\n",
    "    estudiantes = {}\n",
    "    for i in range(3):\n",
    "        nombre = input(f\"Introduce el nombre del estudiante {i+1}: \")\n",
    "        edad = input(f\"Introduce la edad de {nombre}: \")\n",
    "        estudiantes[nombre] = edad\n",
    "    return estudiantes\n",
    "\n",
    "def imprimir_datos_estudiantes(estudiantes):\n",
    "    print(\"\\nDatos de los estudiantes:\")\n",
    "    for nombre, edad in estudiantes.items():\n",
    "        print(f\"Nombre: {nombre}, Edad: {edad}\")\n",
    "\n",
    "def main():\n",
    "    estudiantes = obtener_datos_estudiantes()\n",
    "    imprimir_datos_estudiantes(estudiantes)\n",
    "\n",
    "if __name__ == \"__main__\":\n",
    "    main()"
   ]
  }
 ],
 "metadata": {
  "kernelspec": {
   "display_name": ".venv",
   "language": "python",
   "name": "python3"
  },
  "language_info": {
   "codemirror_mode": {
    "name": "ipython",
    "version": 3
   },
   "file_extension": ".py",
   "mimetype": "text/x-python",
   "name": "python",
   "nbconvert_exporter": "python",
   "pygments_lexer": "ipython3",
   "version": "3.13.1"
  }
 },
 "nbformat": 4,
 "nbformat_minor": 2
}
